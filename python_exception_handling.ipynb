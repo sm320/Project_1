{
  "nbformat": 4,
  "nbformat_minor": 0,
  "metadata": {
    "colab": {
      "provenance": [],
      "authorship_tag": "ABX9TyMlo+Wrce1VahLp9m5IGBH+",
      "include_colab_link": true
    },
    "kernelspec": {
      "name": "python3",
      "display_name": "Python 3"
    },
    "language_info": {
      "name": "python"
    }
  },
  "cells": [
    {
      "cell_type": "markdown",
      "metadata": {
        "id": "view-in-github",
        "colab_type": "text"
      },
      "source": [
        "<a href=\"https://colab.research.google.com/github/sm320/Project_1/blob/main/python_exception_handling.ipynb\" target=\"_parent\"><img src=\"https://colab.research.google.com/assets/colab-badge.svg\" alt=\"Open In Colab\"/></a>"
      ]
    },
    {
      "cell_type": "code",
      "execution_count": 3,
      "metadata": {
        "colab": {
          "base_uri": "https://localhost:8080/"
        },
        "id": "kEBerHY1YBJQ",
        "outputId": "f72f136a-b1a1-46ee-f56e-c8d5b4d62409"
      },
      "outputs": [
        {
          "output_type": "stream",
          "name": "stdout",
          "text": [
            "index out of range\n"
          ]
        }
      ],
      "source": [
        "try:\n",
        "  even = [2,4,6,8]\n",
        "  print(even[5])\n",
        "except IndexError:\n",
        "  print(\"index out of range\")\n",
        "except ZeroDivisionError:\n",
        "  print(\"Denominator can't be 0\")\n"
      ]
    },
    {
      "cell_type": "code",
      "source": [
        "#program to print reciprocal of even numbers\n",
        "try:\n",
        "  num = int(input(\"enter a number: \"))\n",
        "  assert num % 2 == 0\n",
        "except:\n",
        "  print(\"not an even num\")\n",
        "else:\n",
        "  reciprocal = 1/num\n",
        "  print(reciprocal)\n",
        "finally:\n",
        "  print(\"this is final block\")"
      ],
      "metadata": {
        "colab": {
          "base_uri": "https://localhost:8080/"
        },
        "id": "jSSIZHq4b--7",
        "outputId": "355250fa-1a65-4f77-adcc-570d86a71f28"
      },
      "execution_count": 6,
      "outputs": [
        {
          "output_type": "stream",
          "name": "stdout",
          "text": [
            "enter a number: 8\n",
            "0.125\n",
            "this is final block\n"
          ]
        }
      ]
    },
    {
      "cell_type": "code",
      "source": [
        "fruits = [\"apple\",\"banana\",\"cherry\",\"kiwi\"]\n",
        "newlist = []\n",
        "for i in fruits:\n",
        "  if 'a' in i:\n",
        "    newlist.append(i)\n",
        "print(newlist)\n",
        "for i in fruits:\n",
        "  if 'e' in i:\n",
        "    newlist.append(i)\n",
        "print(newlist)"
      ],
      "metadata": {
        "colab": {
          "base_uri": "https://localhost:8080/"
        },
        "id": "qSSxctQOcnyX",
        "outputId": "0fe50352-e887-4009-d69b-2cb250f5bf5c"
      },
      "execution_count": 10,
      "outputs": [
        {
          "output_type": "stream",
          "name": "stdout",
          "text": [
            "['apple', 'banana']\n",
            "['apple', 'banana', 'apple', 'cherry']\n"
          ]
        }
      ]
    },
    {
      "cell_type": "code",
      "source": [
        "fruits = [\"apple\",\"banana\",\"cherry\",\"kiwi\"]\n",
        "newlist = [ i for i in fruits if 'a' in i]\n",
        "print(newlist)"
      ],
      "metadata": {
        "colab": {
          "base_uri": "https://localhost:8080/"
        },
        "id": "2SW1xWDod7zz",
        "outputId": "80b87e10-06f3-43ab-8fb5-d28984b9b7d1"
      },
      "execution_count": 11,
      "outputs": [
        {
          "output_type": "stream",
          "name": "stdout",
          "text": [
            "['apple', 'banana']\n"
          ]
        }
      ]
    },
    {
      "cell_type": "code",
      "source": [
        "{2:4 in range(1,11)}        #comprehension in dictionary"
      ],
      "metadata": {
        "colab": {
          "base_uri": "https://localhost:8080/"
        },
        "id": "sVvws1V9oFR-",
        "outputId": "51a20c23-b620-40b3-c62f-9addfe23b28e"
      },
      "execution_count": 14,
      "outputs": [
        {
          "output_type": "execute_result",
          "data": {
            "text/plain": [
              "{2: True}"
            ]
          },
          "metadata": {},
          "execution_count": 14
        }
      ]
    },
    {
      "cell_type": "code",
      "source": [],
      "metadata": {
        "id": "xXLPMnc5pkbu"
      },
      "execution_count": null,
      "outputs": []
    }
  ]
}