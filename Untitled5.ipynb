{
  "nbformat": 4,
  "nbformat_minor": 0,
  "metadata": {
    "colab": {
      "provenance": [],
      "authorship_tag": "ABX9TyOhp09qGKOWRFgjzXW5ZNam",
      "include_colab_link": true
    },
    "kernelspec": {
      "name": "python3",
      "display_name": "Python 3"
    },
    "language_info": {
      "name": "python"
    }
  },
  "cells": [
    {
      "cell_type": "markdown",
      "metadata": {
        "id": "view-in-github",
        "colab_type": "text"
      },
      "source": [
        "<a href=\"https://colab.research.google.com/github/sm320/Project_1/blob/main/Untitled5.ipynb\" target=\"_parent\"><img src=\"https://colab.research.google.com/assets/colab-badge.svg\" alt=\"Open In Colab\"/></a>"
      ]
    },
    {
      "cell_type": "code",
      "execution_count": 1,
      "metadata": {
        "colab": {
          "base_uri": "https://localhost:8080/"
        },
        "id": "vJ7x2wuMQVMm",
        "outputId": "aa6e3f1c-418f-44fd-9ba1-2358c9dfc2fe"
      },
      "outputs": [
        {
          "output_type": "stream",
          "name": "stdout",
          "text": [
            "first name :  sha\n",
            "last name:  Janesh\n"
          ]
        }
      ],
      "source": [
        "def display_info(first_name,last_name):\n",
        "  print(\"first name : \",first_name)\n",
        "  print(\"last name: \", last_name)\n",
        "display_info(last_name=\"Janesh\",first_name=\"sha\")"
      ]
    },
    {
      "cell_type": "code",
      "source": [
        "# Program to find sum of multiple numbers\n",
        "def find_sum( *numbers):\n",
        "  result = 0\n",
        "  for num in numbers:\n",
        "    result = result + num\n",
        "  print(\"sum is: \", result)\n",
        "find_sum(2,565,23,7879,45)"
      ],
      "metadata": {
        "colab": {
          "base_uri": "https://localhost:8080/"
        },
        "id": "loFMqgbfWVZB",
        "outputId": "5fcc10e4-8d00-455d-e9c6-a0f3122d5e24"
      },
      "execution_count": 8,
      "outputs": [
        {
          "output_type": "stream",
          "name": "stdout",
          "text": [
            "sum is:  8514\n"
          ]
        }
      ]
    },
    {
      "cell_type": "code",
      "source": [
        "greet = lambda name: print(\"Hello world,\",name)\n",
        "greet(\"srush\")"
      ],
      "metadata": {
        "colab": {
          "base_uri": "https://localhost:8080/"
        },
        "id": "dnTokS5zYKLu",
        "outputId": "57f7eddb-4d03-49ed-89c5-de1b753193ab"
      },
      "execution_count": 12,
      "outputs": [
        {
          "output_type": "stream",
          "name": "stdout",
          "text": [
            "Hello world, srush\n"
          ]
        }
      ]
    },
    {
      "cell_type": "code",
      "source": [
        "msg = \"Hello\"\n",
        "def greet():\n",
        "  print(\"Local\",msg)\n",
        "\n",
        "greet()\n",
        "print(\"Local\",msg)"
      ],
      "metadata": {
        "colab": {
          "base_uri": "https://localhost:8080/"
        },
        "id": "RYXCL1WhY3Fb",
        "outputId": "42a129d1-536a-4246-99ea-03189f218a30"
      },
      "execution_count": 17,
      "outputs": [
        {
          "output_type": "stream",
          "name": "stdout",
          "text": [
            "Local Hello\n",
            "Local Hello\n"
          ]
        }
      ]
    },
    {
      "cell_type": "code",
      "source": [
        "# functions as object in python\n",
        "def make_inc(x):\n",
        "  def inc(y):\n",
        "    # x is closed in the defoinition of inc\n",
        "    return x + y\n",
        "  return inc\n",
        "inc5 = make_inc(5)\n",
        "inc10 = make_inc(10)\n",
        "print(inc5(5))   # returns 10\n",
        "print(inc10(5)) # returns 15"
      ],
      "metadata": {
        "colab": {
          "base_uri": "https://localhost:8080/"
        },
        "id": "0vJDOaQ_ZzyF",
        "outputId": "da15fcfa-51a2-448e-be3f-736e741fd286"
      },
      "execution_count": 19,
      "outputs": [
        {
          "output_type": "stream",
          "name": "stdout",
          "text": [
            "10\n",
            "15\n"
          ]
        }
      ]
    },
    {
      "cell_type": "code",
      "source": [
        "# functions as decorators in python\n",
        "def shout(text):\n",
        "  return text.upper()\n",
        "\n",
        "def whisper(text):\n",
        "  return text.lower()\n",
        "\n",
        "def greet(func):\n",
        "  greeting = func(\"HELLO\")\n",
        "  print(greeting)\n",
        "\n",
        "greet(shout)\n",
        "greet(whisper)\n"
      ],
      "metadata": {
        "colab": {
          "base_uri": "https://localhost:8080/"
        },
        "id": "8Xaz4GwWbSb2",
        "outputId": "8a196c24-b81c-49fc-9a58-6f286d62a585"
      },
      "execution_count": 20,
      "outputs": [
        {
          "output_type": "stream",
          "name": "stdout",
          "text": [
            "HELLO\n",
            "HELLO\n"
          ]
        }
      ]
    },
    {
      "cell_type": "code",
      "source": [
        "def create_adder(x):\n",
        "  def adder(y):\n",
        "    return x+y\n",
        "  return adder\n",
        "result = create_adder(15)\n",
        "print(result(10))"
      ],
      "metadata": {
        "id": "VJfdtPSYdxrA"
      },
      "execution_count": null,
      "outputs": []
    },
    {
      "cell_type": "code",
      "source": [
        "def hello_decorator(func):\n",
        "  def inner():\n",
        "    func()\n",
        "  return inner\n",
        "\n",
        "def original_func():\n",
        "  print(\"hello\")\n",
        "\n",
        "original_func = hello_decorator(original_func)\n",
        "original_func()"
      ],
      "metadata": {
        "id": "4ppYU3r6fDCf"
      },
      "execution_count": null,
      "outputs": []
    },
    {
      "cell_type": "code",
      "source": [],
      "metadata": {
        "id": "AXaQN_r7gYPz"
      },
      "execution_count": null,
      "outputs": []
    }
  ]
}